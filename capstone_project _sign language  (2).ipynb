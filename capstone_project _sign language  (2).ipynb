{
 "cells": [
  {
   "cell_type": "markdown",
   "metadata": {
    "_uuid": "84b09d3a0b88e078db1bee5cbd5d8895583d8f0f"
   },
   "source": [
    "## Importing  Libraries :"
   ]
  },
  {
   "cell_type": "code",
   "execution_count": 1,
   "metadata": {},
   "outputs": [
    {
     "name": "stdout",
     "output_type": "stream",
     "text": [
      "Requirement already satisfied: tensorflow in c:\\users\\pavil\\anaconda3\\anacondaa\\lib\\site-packages (2.11.0)\n",
      "Requirement already satisfied: tensorflow-intel==2.11.0 in c:\\users\\pavil\\anaconda3\\anacondaa\\lib\\site-packages (from tensorflow) (2.11.0)\n",
      "Requirement already satisfied: tensorboard<2.12,>=2.11 in c:\\users\\pavil\\anaconda3\\anacondaa\\lib\\site-packages (from tensorflow-intel==2.11.0->tensorflow) (2.11.2)\n",
      "Requirement already satisfied: tensorflow-estimator<2.12,>=2.11.0 in c:\\users\\pavil\\anaconda3\\anacondaa\\lib\\site-packages (from tensorflow-intel==2.11.0->tensorflow) (2.11.0)\n",
      "Requirement already satisfied: grpcio<2.0,>=1.24.3 in c:\\users\\pavil\\anaconda3\\anacondaa\\lib\\site-packages (from tensorflow-intel==2.11.0->tensorflow) (1.51.3)\n",
      "Requirement already satisfied: google-pasta>=0.1.1 in c:\\users\\pavil\\anaconda3\\anacondaa\\lib\\site-packages (from tensorflow-intel==2.11.0->tensorflow) (0.2.0)\n",
      "Requirement already satisfied: tensorflow-io-gcs-filesystem>=0.23.1 in c:\\users\\pavil\\anaconda3\\anacondaa\\lib\\site-packages (from tensorflow-intel==2.11.0->tensorflow) (0.31.0)\n",
      "Requirement already satisfied: termcolor>=1.1.0 in c:\\users\\pavil\\anaconda3\\anacondaa\\lib\\site-packages (from tensorflow-intel==2.11.0->tensorflow) (2.2.0)\n",
      "Requirement already satisfied: flatbuffers>=2.0 in c:\\users\\pavil\\anaconda3\\anacondaa\\lib\\site-packages (from tensorflow-intel==2.11.0->tensorflow) (23.3.3)\n",
      "Requirement already satisfied: setuptools in c:\\users\\pavil\\anaconda3\\anacondaa\\lib\\site-packages (from tensorflow-intel==2.11.0->tensorflow) (63.4.1)\n",
      "Requirement already satisfied: gast<=0.4.0,>=0.2.1 in c:\\users\\pavil\\anaconda3\\anacondaa\\lib\\site-packages (from tensorflow-intel==2.11.0->tensorflow) (0.4.0)\n",
      "Requirement already satisfied: libclang>=13.0.0 in c:\\users\\pavil\\anaconda3\\anacondaa\\lib\\site-packages (from tensorflow-intel==2.11.0->tensorflow) (15.0.6.1)\n",
      "Requirement already satisfied: keras<2.12,>=2.11.0 in c:\\users\\pavil\\anaconda3\\anacondaa\\lib\\site-packages (from tensorflow-intel==2.11.0->tensorflow) (2.11.0)\n",
      "Requirement already satisfied: numpy>=1.20 in c:\\users\\pavil\\anaconda3\\anacondaa\\lib\\site-packages (from tensorflow-intel==2.11.0->tensorflow) (1.21.5)\n",
      "Requirement already satisfied: packaging in c:\\users\\pavil\\anaconda3\\anacondaa\\lib\\site-packages (from tensorflow-intel==2.11.0->tensorflow) (21.3)\n",
      "Requirement already satisfied: opt-einsum>=2.3.2 in c:\\users\\pavil\\anaconda3\\anacondaa\\lib\\site-packages (from tensorflow-intel==2.11.0->tensorflow) (3.3.0)\n",
      "Requirement already satisfied: wrapt>=1.11.0 in c:\\users\\pavil\\anaconda3\\anacondaa\\lib\\site-packages (from tensorflow-intel==2.11.0->tensorflow) (1.14.1)\n",
      "Requirement already satisfied: six>=1.12.0 in c:\\users\\pavil\\anaconda3\\anacondaa\\lib\\site-packages (from tensorflow-intel==2.11.0->tensorflow) (1.16.0)\n",
      "Requirement already satisfied: absl-py>=1.0.0 in c:\\users\\pavil\\anaconda3\\anacondaa\\lib\\site-packages (from tensorflow-intel==2.11.0->tensorflow) (1.4.0)\n",
      "Requirement already satisfied: astunparse>=1.6.0 in c:\\users\\pavil\\anaconda3\\anacondaa\\lib\\site-packages (from tensorflow-intel==2.11.0->tensorflow) (1.6.3)\n",
      "Requirement already satisfied: h5py>=2.9.0 in c:\\users\\pavil\\anaconda3\\anacondaa\\lib\\site-packages (from tensorflow-intel==2.11.0->tensorflow) (3.7.0)\n",
      "Requirement already satisfied: typing-extensions>=3.6.6 in c:\\users\\pavil\\anaconda3\\anacondaa\\lib\\site-packages (from tensorflow-intel==2.11.0->tensorflow) (4.3.0)\n",
      "Requirement already satisfied: protobuf<3.20,>=3.9.2 in c:\\users\\pavil\\anaconda3\\anacondaa\\lib\\site-packages (from tensorflow-intel==2.11.0->tensorflow) (3.19.6)\n",
      "Requirement already satisfied: wheel<1.0,>=0.23.0 in c:\\users\\pavil\\anaconda3\\anacondaa\\lib\\site-packages (from astunparse>=1.6.0->tensorflow-intel==2.11.0->tensorflow) (0.37.1)\n",
      "Requirement already satisfied: tensorboard-data-server<0.7.0,>=0.6.0 in c:\\users\\pavil\\anaconda3\\anacondaa\\lib\\site-packages (from tensorboard<2.12,>=2.11->tensorflow-intel==2.11.0->tensorflow) (0.6.1)\n",
      "Requirement already satisfied: markdown>=2.6.8 in c:\\users\\pavil\\anaconda3\\anacondaa\\lib\\site-packages (from tensorboard<2.12,>=2.11->tensorflow-intel==2.11.0->tensorflow) (3.3.4)\n",
      "Requirement already satisfied: tensorboard-plugin-wit>=1.6.0 in c:\\users\\pavil\\anaconda3\\anacondaa\\lib\\site-packages (from tensorboard<2.12,>=2.11->tensorflow-intel==2.11.0->tensorflow) (1.8.1)\n",
      "Requirement already satisfied: google-auth<3,>=1.6.3 in c:\\users\\pavil\\anaconda3\\anacondaa\\lib\\site-packages (from tensorboard<2.12,>=2.11->tensorflow-intel==2.11.0->tensorflow) (2.16.2)\n",
      "Requirement already satisfied: werkzeug>=1.0.1 in c:\\users\\pavil\\anaconda3\\anacondaa\\lib\\site-packages (from tensorboard<2.12,>=2.11->tensorflow-intel==2.11.0->tensorflow) (2.0.3)\n",
      "Requirement already satisfied: google-auth-oauthlib<0.5,>=0.4.1 in c:\\users\\pavil\\anaconda3\\anacondaa\\lib\\site-packages (from tensorboard<2.12,>=2.11->tensorflow-intel==2.11.0->tensorflow) (0.4.6)\n",
      "Requirement already satisfied: requests<3,>=2.21.0 in c:\\users\\pavil\\anaconda3\\anacondaa\\lib\\site-packages (from tensorboard<2.12,>=2.11->tensorflow-intel==2.11.0->tensorflow) (2.28.1)\n",
      "Requirement already satisfied: pyparsing!=3.0.5,>=2.0.2 in c:\\users\\pavil\\anaconda3\\anacondaa\\lib\\site-packages (from packaging->tensorflow-intel==2.11.0->tensorflow) (3.0.9)\n",
      "Requirement already satisfied: pyasn1-modules>=0.2.1 in c:\\users\\pavil\\anaconda3\\anacondaa\\lib\\site-packages (from google-auth<3,>=1.6.3->tensorboard<2.12,>=2.11->tensorflow-intel==2.11.0->tensorflow) (0.2.8)\n",
      "Requirement already satisfied: rsa<5,>=3.1.4 in c:\\users\\pavil\\anaconda3\\anacondaa\\lib\\site-packages (from google-auth<3,>=1.6.3->tensorboard<2.12,>=2.11->tensorflow-intel==2.11.0->tensorflow) (4.9)\n",
      "Requirement already satisfied: cachetools<6.0,>=2.0.0 in c:\\users\\pavil\\anaconda3\\anacondaa\\lib\\site-packages (from google-auth<3,>=1.6.3->tensorboard<2.12,>=2.11->tensorflow-intel==2.11.0->tensorflow) (5.3.0)\n",
      "Requirement already satisfied: requests-oauthlib>=0.7.0 in c:\\users\\pavil\\anaconda3\\anacondaa\\lib\\site-packages (from google-auth-oauthlib<0.5,>=0.4.1->tensorboard<2.12,>=2.11->tensorflow-intel==2.11.0->tensorflow) (1.3.1)\n",
      "Requirement already satisfied: urllib3<1.27,>=1.21.1 in c:\\users\\pavil\\anaconda3\\anacondaa\\lib\\site-packages (from requests<3,>=2.21.0->tensorboard<2.12,>=2.11->tensorflow-intel==2.11.0->tensorflow) (1.26.11)\n",
      "Requirement already satisfied: idna<4,>=2.5 in c:\\users\\pavil\\anaconda3\\anacondaa\\lib\\site-packages (from requests<3,>=2.21.0->tensorboard<2.12,>=2.11->tensorflow-intel==2.11.0->tensorflow) (3.3)\n",
      "Requirement already satisfied: certifi>=2017.4.17 in c:\\users\\pavil\\anaconda3\\anacondaa\\lib\\site-packages (from requests<3,>=2.21.0->tensorboard<2.12,>=2.11->tensorflow-intel==2.11.0->tensorflow) (2022.9.14)\n",
      "Requirement already satisfied: charset-normalizer<3,>=2 in c:\\users\\pavil\\anaconda3\\anacondaa\\lib\\site-packages (from requests<3,>=2.21.0->tensorboard<2.12,>=2.11->tensorflow-intel==2.11.0->tensorflow) (2.0.4)\n",
      "Requirement already satisfied: pyasn1<0.5.0,>=0.4.6 in c:\\users\\pavil\\anaconda3\\anacondaa\\lib\\site-packages (from pyasn1-modules>=0.2.1->google-auth<3,>=1.6.3->tensorboard<2.12,>=2.11->tensorflow-intel==2.11.0->tensorflow) (0.4.8)\n",
      "Requirement already satisfied: oauthlib>=3.0.0 in c:\\users\\pavil\\anaconda3\\anacondaa\\lib\\site-packages (from requests-oauthlib>=0.7.0->google-auth-oauthlib<0.5,>=0.4.1->tensorboard<2.12,>=2.11->tensorflow-intel==2.11.0->tensorflow) (3.2.2)\n",
      "Note: you may need to restart the kernel to use updated packages.\n"
     ]
    }
   ],
   "source": [
    "pip install tensorflow"
   ]
  },
  {
   "cell_type": "code",
   "execution_count": 1,
   "metadata": {
    "_uuid": "b83308f6231dee2245c1a2ef35050d387d470582"
   },
   "outputs": [],
   "source": [
    "import warnings\n",
    "warnings.filterwarnings('ignore')"
   ]
  },
  {
   "cell_type": "code",
   "execution_count": 2,
   "metadata": {
    "_uuid": "628412fed976f1122727f106b38d6db98a714716",
    "scrolled": true
   },
   "outputs": [
    {
     "name": "stdout",
     "output_type": "stream",
     "text": [
      "[' dab304final project healthcare analytics.ipynb', '.cache', '.conda', '.condarc', '.continuum', '.dotnet', '.eclipse', '.idlerc', '.ipynb_checkpoints', '.ipython', '.jupyter', '.keras', '.matplotlib', '.ms-ad', '.node_repl_history', '.p2', '.templateengine', '.vscode', 'anaconda3', 'AppData', 'Application Data', 'Assigment.sql', 'Assigment~2.sql', 'capstone_project _sign language .ipynb', 'capture_from_camera.py', 'Contacts', 'Cookies', 'create_gesture_data.py', 'dab304 final project healthcare.ipynb', 'DataFlair_trainCNN.py', 'Desktop', 'Diabetes Analysis & Prediction Using ML.ipynb', 'Diabetes-Prediction-using-Machine-Learning-317ddc0a56486f2448b4304c5e3f3b337a2b7683.zip', 'diabetes.csv', 'Documents', 'Downloads', 'eclipse', 'eclipse-workspace', 'Favorites', 'generate_images_labels.py', 'hello', 'IntelGraphicsProfiles', 'Links', 'Local Settings', 'logs', 'machine learning project diabetes.ipynb', 'machine learning project.ipynb', 'mnist-sign-language-cnn-99-40-accuracy.ipynb', 'model_for_gesture.py', 'Music', 'My Documents', 'NetHood', 'NTUSER.DAT', 'ntuser.dat.LOG1', 'ntuser.dat.LOG2', 'NTUSER.DAT{1c2b59c6-c5f5-11eb-bacb-000d3a96488e}.TM.blf', 'NTUSER.DAT{1c2b59c6-c5f5-11eb-bacb-000d3a96488e}.TMContainer00000000000000000001.regtrans-ms', 'NTUSER.DAT{1c2b59c6-c5f5-11eb-bacb-000d3a96488e}.TMContainer00000000000000000002.regtrans-ms', 'ntuser.ini', 'OneDrive', 'Oracle', 'Pictures', 'predction diabetses.ipynb', 'predict_from_camera.py', 'predict_from_file.py', 'PrintHood', 'PycharmProjects', 'Recent', 'Saved Games', 'Searches', 'SendTo', 'source', 'Start Menu', 'Templates', 'train_model.py', 'transform_images.py', 'Untitled.ipynb', 'Untitled1.ipynb', 'Untitled10.ipynb', 'Untitled11.ipynb', 'Untitled12.ipynb', 'Untitled13.ipynb', 'Untitled14.ipynb', 'Untitled15.ipynb', 'Untitled16.ipynb', 'Untitled17.ipynb', 'Untitled2.ipynb', 'Untitled3.ipynb', 'Untitled4.ipynb', 'Untitled5.ipynb', 'Untitled6.ipynb', 'Untitled7.ipynb', 'Untitled8.ipynb', 'Untitled9.ipynb', 'Varun final Exam dab103.ipynb', 'Videos', 'vk_dab304_decision tree.ipynb', 'weather']\n"
     ]
    }
   ],
   "source": [
    "import os\n",
    "print(os.listdir())"
   ]
  },
  {
   "cell_type": "code",
   "execution_count": 4,
   "metadata": {},
   "outputs": [
    {
     "name": "stdout",
     "output_type": "stream",
     "text": [
      "Note: you may need to restart the kernel to use updated packages.\n"
     ]
    },
    {
     "name": "stderr",
     "output_type": "stream",
     "text": [
      "ERROR: Could not find a version that satisfies the requirement tensorflow.keras (from versions: none)\n",
      "ERROR: No matching distribution found for tensorflow.keras\n"
     ]
    }
   ],
   "source": [
    "\n"
   ]
  },
  {
   "cell_type": "code",
   "execution_count": 2,
   "metadata": {
    "_cell_guid": "b1076dfc-b9ad-4769-8c92-a6c4dae69d19",
    "_uuid": "8f2839f25d086af736a60e9eeb907d3b93b6e0e5"
   },
   "outputs": [],
   "source": [
    "import numpy as np\n",
    "import pandas as pd\n",
    "import matplotlib.pyplot as plt\n",
    "from collections import Counter\n",
    "import tensorflow as tf\n",
    "from tensorflow.keras.layers import Dense, Flatten\n",
    "from tensorflow.keras.models import Model\n",
    "from tensorflow.keras.applications.vgg16 import VGG16\n",
    "\n",
    "\n",
    "\n",
    "\n",
    "\n"
   ]
  },
  {
   "cell_type": "markdown",
   "metadata": {
    "_uuid": "9454ccb3c30e9b35090060650dfcd0d2e86c2c4e"
   },
   "source": [
    "## Exploratory Analysis of Training Data"
   ]
  },
  {
   "cell_type": "code",
   "execution_count": 11,
   "metadata": {
    "_cell_guid": "79c7e3d0-c299-4dcb-8224-4455121ee9b0",
    "_uuid": "d629ff2d2480ee46fbb7e2d37f6b5fab8052498a"
   },
   "outputs": [
    {
     "name": "stdout",
     "output_type": "stream",
     "text": [
      "Dataframe Shape: (27455, 785)\n"
     ]
    }
   ],
   "source": [
    "data = pd.read_csv(\"C:/Users/pavil/Desktop/capstone dataset/sign_mnist_train.csv\")\n",
    "print('Dataframe Shape:', data.shape)"
   ]
  },
  {
   "cell_type": "code",
   "execution_count": 8,
   "metadata": {
    "_uuid": "99a1ee35f1dffb1f7ff5931db2923c7b777ebfba"
   },
   "outputs": [
    {
     "data": {
      "text/html": [
       "<div>\n",
       "<style scoped>\n",
       "    .dataframe tbody tr th:only-of-type {\n",
       "        vertical-align: middle;\n",
       "    }\n",
       "\n",
       "    .dataframe tbody tr th {\n",
       "        vertical-align: top;\n",
       "    }\n",
       "\n",
       "    .dataframe thead th {\n",
       "        text-align: right;\n",
       "    }\n",
       "</style>\n",
       "<table border=\"1\" class=\"dataframe\">\n",
       "  <thead>\n",
       "    <tr style=\"text-align: right;\">\n",
       "      <th></th>\n",
       "      <th>label</th>\n",
       "      <th>pixel1</th>\n",
       "      <th>pixel2</th>\n",
       "      <th>pixel3</th>\n",
       "      <th>pixel4</th>\n",
       "      <th>pixel5</th>\n",
       "      <th>pixel6</th>\n",
       "      <th>pixel7</th>\n",
       "      <th>pixel8</th>\n",
       "      <th>pixel9</th>\n",
       "      <th>...</th>\n",
       "      <th>pixel775</th>\n",
       "      <th>pixel776</th>\n",
       "      <th>pixel777</th>\n",
       "      <th>pixel778</th>\n",
       "      <th>pixel779</th>\n",
       "      <th>pixel780</th>\n",
       "      <th>pixel781</th>\n",
       "      <th>pixel782</th>\n",
       "      <th>pixel783</th>\n",
       "      <th>pixel784</th>\n",
       "    </tr>\n",
       "  </thead>\n",
       "  <tbody>\n",
       "    <tr>\n",
       "      <th>0</th>\n",
       "      <td>3</td>\n",
       "      <td>107</td>\n",
       "      <td>118</td>\n",
       "      <td>127</td>\n",
       "      <td>134</td>\n",
       "      <td>139</td>\n",
       "      <td>143</td>\n",
       "      <td>146</td>\n",
       "      <td>150</td>\n",
       "      <td>153</td>\n",
       "      <td>...</td>\n",
       "      <td>207</td>\n",
       "      <td>207</td>\n",
       "      <td>207</td>\n",
       "      <td>207</td>\n",
       "      <td>206</td>\n",
       "      <td>206</td>\n",
       "      <td>206</td>\n",
       "      <td>204</td>\n",
       "      <td>203</td>\n",
       "      <td>202</td>\n",
       "    </tr>\n",
       "    <tr>\n",
       "      <th>1</th>\n",
       "      <td>6</td>\n",
       "      <td>155</td>\n",
       "      <td>157</td>\n",
       "      <td>156</td>\n",
       "      <td>156</td>\n",
       "      <td>156</td>\n",
       "      <td>157</td>\n",
       "      <td>156</td>\n",
       "      <td>158</td>\n",
       "      <td>158</td>\n",
       "      <td>...</td>\n",
       "      <td>69</td>\n",
       "      <td>149</td>\n",
       "      <td>128</td>\n",
       "      <td>87</td>\n",
       "      <td>94</td>\n",
       "      <td>163</td>\n",
       "      <td>175</td>\n",
       "      <td>103</td>\n",
       "      <td>135</td>\n",
       "      <td>149</td>\n",
       "    </tr>\n",
       "    <tr>\n",
       "      <th>2</th>\n",
       "      <td>2</td>\n",
       "      <td>187</td>\n",
       "      <td>188</td>\n",
       "      <td>188</td>\n",
       "      <td>187</td>\n",
       "      <td>187</td>\n",
       "      <td>186</td>\n",
       "      <td>187</td>\n",
       "      <td>188</td>\n",
       "      <td>187</td>\n",
       "      <td>...</td>\n",
       "      <td>202</td>\n",
       "      <td>201</td>\n",
       "      <td>200</td>\n",
       "      <td>199</td>\n",
       "      <td>198</td>\n",
       "      <td>199</td>\n",
       "      <td>198</td>\n",
       "      <td>195</td>\n",
       "      <td>194</td>\n",
       "      <td>195</td>\n",
       "    </tr>\n",
       "    <tr>\n",
       "      <th>3</th>\n",
       "      <td>2</td>\n",
       "      <td>211</td>\n",
       "      <td>211</td>\n",
       "      <td>212</td>\n",
       "      <td>212</td>\n",
       "      <td>211</td>\n",
       "      <td>210</td>\n",
       "      <td>211</td>\n",
       "      <td>210</td>\n",
       "      <td>210</td>\n",
       "      <td>...</td>\n",
       "      <td>235</td>\n",
       "      <td>234</td>\n",
       "      <td>233</td>\n",
       "      <td>231</td>\n",
       "      <td>230</td>\n",
       "      <td>226</td>\n",
       "      <td>225</td>\n",
       "      <td>222</td>\n",
       "      <td>229</td>\n",
       "      <td>163</td>\n",
       "    </tr>\n",
       "    <tr>\n",
       "      <th>4</th>\n",
       "      <td>13</td>\n",
       "      <td>164</td>\n",
       "      <td>167</td>\n",
       "      <td>170</td>\n",
       "      <td>172</td>\n",
       "      <td>176</td>\n",
       "      <td>179</td>\n",
       "      <td>180</td>\n",
       "      <td>184</td>\n",
       "      <td>185</td>\n",
       "      <td>...</td>\n",
       "      <td>92</td>\n",
       "      <td>105</td>\n",
       "      <td>105</td>\n",
       "      <td>108</td>\n",
       "      <td>133</td>\n",
       "      <td>163</td>\n",
       "      <td>157</td>\n",
       "      <td>163</td>\n",
       "      <td>164</td>\n",
       "      <td>179</td>\n",
       "    </tr>\n",
       "  </tbody>\n",
       "</table>\n",
       "<p>5 rows × 785 columns</p>\n",
       "</div>"
      ],
      "text/plain": [
       "   label  pixel1  pixel2  pixel3  pixel4  pixel5  pixel6  pixel7  pixel8  \\\n",
       "0      3     107     118     127     134     139     143     146     150   \n",
       "1      6     155     157     156     156     156     157     156     158   \n",
       "2      2     187     188     188     187     187     186     187     188   \n",
       "3      2     211     211     212     212     211     210     211     210   \n",
       "4     13     164     167     170     172     176     179     180     184   \n",
       "\n",
       "   pixel9  ...  pixel775  pixel776  pixel777  pixel778  pixel779  pixel780  \\\n",
       "0     153  ...       207       207       207       207       206       206   \n",
       "1     158  ...        69       149       128        87        94       163   \n",
       "2     187  ...       202       201       200       199       198       199   \n",
       "3     210  ...       235       234       233       231       230       226   \n",
       "4     185  ...        92       105       105       108       133       163   \n",
       "\n",
       "   pixel781  pixel782  pixel783  pixel784  \n",
       "0       206       204       203       202  \n",
       "1       175       103       135       149  \n",
       "2       198       195       194       195  \n",
       "3       225       222       229       163  \n",
       "4       157       163       164       179  \n",
       "\n",
       "[5 rows x 785 columns]"
      ]
     },
     "execution_count": 8,
     "metadata": {},
     "output_type": "execute_result"
    }
   ],
   "source": [
    "data.head()"
   ]
  },
  {
   "cell_type": "code",
   "execution_count": 9,
   "metadata": {
    "_uuid": "15f8bfe9e37c3436c350ec44a5816afaa29c4c20"
   },
   "outputs": [
    {
     "name": "stdout",
     "output_type": "stream",
     "text": [
      "Number of images: 27455\n",
      "Number of pixels in each image: 784\n"
     ]
    }
   ],
   "source": [
    "x = data.iloc[:, 1:].values\n",
    "print(\"Number of images:\", x.shape[0])\n",
    "print(\"Number of pixels in each image:\", x.shape[1])"
   ]
  },
  {
   "cell_type": "code",
   "execution_count": 49,
   "metadata": {
    "_uuid": "39ef28049f298587e051cabda2405d0870b1d1fa"
   },
   "outputs": [
    {
     "name": "stdout",
     "output_type": "stream",
     "text": [
      "Labels:\n",
      " [ 3  6  2 ... 18 17 23]\n",
      "Shape of Labels: (27455,)\n"
     ]
    }
   ],
   "source": [
    "y = data.iloc[:, :1].values.flatten()\n",
    "print('Labels:\\n', y)\n",
    "print('Shape of Labels:', y.shape)"
   ]
  },
  {
   "cell_type": "code",
   "execution_count": 50,
   "metadata": {
    "_uuid": "1efe3ae08c54cde1479b191fe54858c87bfe36b4"
   },
   "outputs": [],
   "source": [
    "def next_batch(batch_size, data, labels):\n",
    "    idx = np.arange(0, len(data))\n",
    "    np.random.shuffle(idx)\n",
    "    idx = idx[: batch_size]\n",
    "    data_shuffle = [data[i] for i in idx]\n",
    "    labels_shuffle = [labels[i] for i in idx]\n",
    "    return np.asarray(data_shuffle), np.asarray(labels_shuffle)"
   ]
  },
  {
   "cell_type": "code",
   "execution_count": 51,
   "metadata": {
    "_uuid": "a4391ec1b5b52c5588de8cb28572327548c7b343"
   },
   "outputs": [],
   "source": [
    "def display_images(data):\n",
    "    x, y = data\n",
    "    fig, axes = plt.subplots(3, 3)\n",
    "    fig.subplots_adjust(hspace = 0.5, wspace = 0.5)\n",
    "    for i, ax in enumerate(axes.flat):\n",
    "        ax.imshow(x[i].reshape(28, 28), cmap = 'binary')\n",
    "        ax.set_xlabel(chr(y[i] + 65))\n",
    "        ax.set_xticks([])\n",
    "        ax.set_yticks([])\n",
    "    plt.show()"
   ]
  },
  {
   "cell_type": "code",
   "execution_count": 52,
   "metadata": {
    "_uuid": "d6b7c884816115ee16f9dcc4afbd84459e51adce"
   },
   "outputs": [
    {
     "data": {
      "image/png": "[encoded data removed]",
      "text/plain": [
       "<Figure size 432x288 with 9 Axes>"
      ]
     },
     "metadata": {},
     "output_type": "display_data"
    }
   ],
   "source": [
    "display_images(next_batch(9, x, y))"
   ]
  },
  {
   "cell_type": "code",
   "execution_count": 53,
   "metadata": {},
   "outputs": [
    {
     "data": {
      "image/png": "[encoded data removed]",
      "text/plain": [
       "<Figure size 432x288 with 9 Axes>"
      ]
     },
     "metadata": {},
     "output_type": "display_data"
    }
   ],
   "source": [
    "display_images(next_batch(10, x, y))"
   ]
  },
  {
   "cell_type": "code",
   "execution_count": 54,
   "metadata": {},
   "outputs": [
    {
     "data": {
      "image/png": "[encoded data removed]",
      "text/plain": [
       "<Figure size 432x288 with 9 Axes>"
      ]
     },
     "metadata": {},
     "output_type": "display_data"
    }
   ],
   "source": [
    "display_images(next_batch(1001, x, y))"
   ]
  },
  {
   "cell_type": "code",
   "execution_count": 55,
   "metadata": {
    "_uuid": "e24f19ecd1a7215b06b11b811ab504fdf4ee1fe6"
   },
   "outputs": [
    {
     "data": {
      "image/png": "[encoded data removed]",
      "text/plain": [
       "<Figure size 1440x720 with 1 Axes>"
      ]
     },
     "metadata": {
      "needs_background": "light"
     },
     "output_type": "display_data"
    }
   ],
   "source": [
    "z = dict(Counter(list(y)))\n",
    "labels = z.keys()\n",
    "frequencies = [z[i] for i in labels]\n",
    "labels = [chr(i + 65) for i in z.keys()]\n",
    "\n",
    "plt.figure(figsize = (20, 10))\n",
    "plt.bar(labels, frequencies)\n",
    "plt.title('Frequency Distribution of Alphabets', fontsize = 20 ,\n",
    "        )\n",
    "plt.show()"
   ]
  },
  {
   "cell_type": "code",
   "execution_count": 56,
   "metadata": {
    "_uuid": "c206c3161a73e318f6d16cedd14c276224d26823"
   },
   "outputs": [
    {
     "name": "stdout",
     "output_type": "stream",
     "text": [
      "Shape of y after encoding: (27455, 25)\n"
     ]
    }
   ],
   "source": [
    "def one_hot_encode(y):\n",
    "    return np.eye(25)[y]\n",
    "y_encoded = one_hot_encode(y)\n",
    "print('Shape of y after encoding:', y_encoded.shape)"
   ]
  },
  {
   "cell_type": "markdown",
   "metadata": {
    "_uuid": "2ee97e25d9d5f8919fd88d4d78a0f43e8dab6e05"
   },
   "source": [
    "## Building the Convolutional Neural Network"
   ]
  },
  {
   "cell_type": "code",
   "execution_count": 57,
   "metadata": {
    "_uuid": "5b01f4bebb9273ea206844744287721f17531c58"
   },
   "outputs": [],
   "source": [
    "# Training Parameters\n",
    "learning_rate = 0.001\n",
    "epochs = 2000\n",
    "batch_size = 128\n",
    "display_step = 100"
   ]
  },
  {
   "cell_type": "code",
   "execution_count": 58,
   "metadata": {
    "_uuid": "6b15c759123ed53d3fec517f27a3fbbf4cff9d0f"
   },
   "outputs": [],
   "source": [
    "# Neural Network Hyperparameters\n",
    "n_input = 784\n",
    "n_classes = 25\n",
    "dropout = 0.75"
   ]
  },
  {
   "cell_type": "code",
   "execution_count": 59,
   "metadata": {},
   "outputs": [],
   "source": [
    "import tensorflow.compat.v1 as tf ## to run attributes that tensorflow was not supporting in new version\n",
    "tf.disable_v2_behavior()"
   ]
  },
  {
   "cell_type": "code",
   "execution_count": 60,
   "metadata": {
    "_uuid": "c9553734888fe5c7075936508bcf3e9158630544"
   },
   "outputs": [],
   "source": [
    "# Placeholders\n",
    "tf.disable_v2_behavior()\n",
    "X = tf.placeholder(tf.float32, shape = [None, n_input]) # Placeholder for Feature Matrix\n",
    "Y = tf.placeholder(tf.float32, shape = [None, n_classes]) # Placeholder for Labels\n",
    "keep_prob = tf.placeholder(tf.float32) # Placeholder for Dropout Rate"
   ]
  },
  {
   "cell_type": "code",
   "execution_count": 61,
   "metadata": {
    "_uuid": "bf4228d5df27ee93ce66903969132bc58d39deb9"
   },
   "outputs": [],
   "source": [
    "weights = {\n",
    "    # Weight for Convolutional Layer 1: 5x5 filter, 1 input channel, 32 output channels\n",
    "    'w1' : tf.Variable(tf.random_normal([5, 5, 1, 32])),\n",
    "    # Weight for Convolutional Layer 2: 5x5 filter, 32 input channels, 64 output channels\n",
    "    'w2' : tf.Variable(tf.random_normal([5, 5, 32, 64])),\n",
    "    # Weight for Fully Connected Layer 1: 49 * 64 input channels, 1024 output channels\n",
    "    'w3' : tf.Variable(tf.random_normal([7 * 7 * 64, 1024])),\n",
    "    # Weight for Convolutional Layer 1: 1024 input channels, 25(number of classes) output channels\n",
    "    'w4' : tf.Variable(tf.random_normal([1024, n_classes]))\n",
    "}"
   ]
  },
  {
   "cell_type": "code",
   "execution_count": 62,
   "metadata": {
    "_uuid": "1d5acc9eca7442668b3b43885d2acc597454384d"
   },
   "outputs": [],
   "source": [
    "biases = {\n",
    "    # Bias for Convolutional Layer 1\n",
    "    'b1' : tf.Variable(tf.random_normal([32])),\n",
    "    # Bias for Convolutional Layer 2\n",
    "    'b2' : tf.Variable(tf.random_normal([64])),\n",
    "    # Bias for Fully Connected Layer 1\n",
    "    'b3' : tf.Variable(tf.random_normal([1024])),\n",
    "    # Bias for Outout Layer\n",
    "    'b4' : tf.Variable(tf.random_normal([n_classes]))\n",
    "}"
   ]
  },
  {
   "cell_type": "code",
   "execution_count": 63,
   "metadata": {
    "_uuid": "59c4bf378438f8e993d90883664d8ce499705ab3"
   },
   "outputs": [],
   "source": [
    "# Wrapper function for creating a Convolutional Layer\n",
    "def conv2d(x, W, b, strides = 1):\n",
    "    x = tf.nn.conv2d(x, W, strides = [1, strides, strides, 1], padding='SAME')\n",
    "    x = tf.nn.bias_add(x, b)\n",
    "    return tf.nn.relu(x)"
   ]
  },
  {
   "cell_type": "code",
   "execution_count": 64,
   "metadata": {
    "_uuid": "75ec9c5a85c8463c99b7d8f7d57909e54f600fac"
   },
   "outputs": [],
   "source": [
    "# Wrapper function for creating a Pooling Layer\n",
    "def maxpool2d(x, k=2):\n",
    "    return tf.nn.max_pool(x, ksize = [1, k, k, 1], strides = [1, k, k, 1], padding = 'SAME')"
   ]
  },
  {
   "cell_type": "code",
   "execution_count": 65,
   "metadata": {
    "_uuid": "6a19e3bfe9ca6627e1f7dc450470e2ad59331ba6"
   },
   "outputs": [],
   "source": [
    "def neural_network(x, weight, bias, dropout):\n",
    "    x = tf.reshape(x, shape = [-1, 28, 28, 1])\n",
    "    \n",
    "    conv1 = conv2d(x, weight['w1'], bias['b1']) # Convolutional Layer 1\n",
    "    conv1 = maxpool2d(conv1) # Pooling Layer 1\n",
    "    \n",
    "    conv2 = conv2d(conv1, weight['w2'], bias['b2']) # Convolutional Layer 1\n",
    "    conv2 = maxpool2d(conv2) # Pooling Layer 1\n",
    "    \n",
    "    # Fully Connected Layer 1\n",
    "    # Reshaping output of previous convolutional layer to fit the fully connected layer\n",
    "    fc = tf.reshape(conv2, [-1, weights['w3'].get_shape().as_list()[0]])\n",
    "    fc = tf.add(tf.matmul(fc, weight['w3']), bias['b3']) # Linear Function\n",
    "    fc = tf.nn.relu(fc) # Activation Function\n",
    "    \n",
    "    fc = tf.nn.dropout(fc, dropout) # Applying dropout on Fully Connected Layer\n",
    "    \n",
    "    out = tf.add(tf.matmul(fc, weight['w4']), bias['b4']) # Output Layer\n",
    "    return out"
   ]
  },
  {
   "cell_type": "code",
   "execution_count": 66,
   "metadata": {
    "_uuid": "ce9d44a75f9231a7a7240098b6fc4e6956509dd3"
   },
   "outputs": [
    {
     "name": "stdout",
     "output_type": "stream",
     "text": [
      "WARNING:tensorflow:From C:\\Users\\pavil\\anaconda3\\lib\\site-packages\\tensorflow\\python\\util\\dispatch.py:1176: calling dropout (from tensorflow.python.ops.nn_ops) with keep_prob is deprecated and will be removed in a future version.\n",
      "Instructions for updating:\n",
      "Please use `rate` instead of `keep_prob`. Rate should be set to `rate = 1 - keep_prob`.\n"
     ]
    }
   ],
   "source": [
    "logits = neural_network(X, weights, biases, keep_prob)"
   ]
  },
  {
   "cell_type": "code",
   "execution_count": 67,
   "metadata": {
    "_uuid": "ebeec9eb386d8b2e0da065047b39d9d071a1d396"
   },
   "outputs": [],
   "source": [
    "loss_op = tf.nn.softmax_cross_entropy_with_logits_v2(logits = logits, labels = Y)\n",
    "optimizer = tf.train.AdamOptimizer(learning_rate = learning_rate)\n",
    "train_op = optimizer.minimize(loss_op)"
   ]
  },
  {
   "cell_type": "code",
   "execution_count": 68,
   "metadata": {
    "_uuid": "f68e7510348ddb8c1238d3dd4f4b7c8cc966a0c4"
   },
   "outputs": [],
   "source": [
    "correct_pred = tf.equal(tf.argmax(logits, 1), tf.argmax(Y, 1))\n",
    "accuracy = tf.reduce_mean(tf.cast(correct_pred, tf.float32))"
   ]
  },
  {
   "cell_type": "code",
   "execution_count": 69,
   "metadata": {
    "_uuid": "ec38394bd2174e99935478db5d859c89a753156e"
   },
   "outputs": [],
   "source": [
    "init = tf.global_variables_initializer()"
   ]
  },
  {
   "cell_type": "markdown",
   "metadata": {
    "_uuid": "d21063551850006f750a036653c90a955ca543da"
   },
   "source": [
    "## Training the Neural Network"
   ]
  },
  {
   "cell_type": "code",
   "execution_count": 70,
   "metadata": {
    "_uuid": "2fa1a4a9ddba2ea579a2a70569ed65b848d6ed57"
   },
   "outputs": [
    {
     "name": "stdout",
     "output_type": "stream",
     "text": [
      "X train shape (18394, 784)\n",
      "y train shape (18394, 25)\n",
      "X test shape (9061, 784)\n",
      "y test shape (9061, 25)\n"
     ]
    }
   ],
   "source": [
    "# Splitting the dataset into Training and Holdout(Test set)\n",
    "from sklearn.model_selection import train_test_split\n",
    "X_train, X_test, y_train, y_test = train_test_split(x, y_encoded, test_size = 0.33, random_state = 42)\n",
    "print('X train shape', X_train.shape)\n",
    "print('y train shape', y_train.shape)\n",
    "print('X test shape', X_test.shape)\n",
    "print('y test shape', y_test.shape)"
   ]
  },
  {
   "cell_type": "code",
   "execution_count": 71,
   "metadata": {
    "_uuid": "fb581cb94945762219e9546979bbb8192991bf2e"
   },
   "outputs": [
    {
     "name": "stdout",
     "output_type": "stream",
     "text": [
      "Epoch 100, Cost: 115279733.25, Accuracy: 46.09375 %\n",
      "Epoch 200, Cost: 22025938.75, Accuracy: 71.875 %\n",
      "Epoch 300, Cost: 8370278.8125, Accuracy: 82.03125 %\n",
      "Epoch 400, Cost: 9095270.3125, Accuracy: 82.03125 %\n",
      "Epoch 500, Cost: 2331296.1875, Accuracy: 92.96875 %\n",
      "Epoch 600, Cost: 1969855.875, Accuracy: 92.1875 %\n",
      "Epoch 700, Cost: 1632421.5, Accuracy: 93.75 %\n",
      "Epoch 800, Cost: 990971.4375, Accuracy: 95.3125 %\n",
      "Epoch 900, Cost: 803081.40625, Accuracy: 96.09375 %\n",
      "Epoch 1000, Cost: 206280.8125, Accuracy: 97.65625 %\n",
      "Epoch 1100, Cost: 0.0, Accuracy: 100.0 %\n",
      "Epoch 1200, Cost: 168478.1875, Accuracy: 98.4375 %\n",
      "Epoch 1300, Cost: 123275.3125, Accuracy: 99.21875 %\n",
      "Epoch 1400, Cost: 109394.78125, Accuracy: 99.21875 %\n",
      "Epoch 1500, Cost: 87186.5, Accuracy: 99.21875 %\n",
      "Epoch 1600, Cost: 0.0, Accuracy: 100.0 %\n",
      "Epoch 1700, Cost: 16670.6875, Accuracy: 99.21875 %\n",
      "Epoch 1800, Cost: 0.0, Accuracy: 100.0 %\n",
      "Epoch 1900, Cost: 145652.0625, Accuracy: 99.21875 %\n",
      "Epoch 2000, Cost: 0.0, Accuracy: 100.0 %\n",
      "--------------------------------------------------\n",
      "\n",
      "Optimization Finished\n",
      "\n",
      "Accuracy on Training Data: 99.86408352851868 %\n",
      "Accuracy on Test Data: 99.65787529945374 %\n"
     ]
    }
   ],
   "source": [
    "with tf.Session() as sess:\n",
    "    # Running Initializer\n",
    "    sess.run(init)\n",
    "    cost_hist, acc_hist = [], []\n",
    "    for epoch in range(1, epochs + 1):\n",
    "        _x, _y = next_batch(batch_size, X_train, y_train)\n",
    "        # Running Optimizer\n",
    "        sess.run(train_op, feed_dict = { X : _x, Y : _y, keep_prob : dropout })\n",
    "        if epoch % display_step == 0:\n",
    "            # Calculating Loss and Accuracy on the current Epoch\n",
    "            loss, acc = sess.run([loss_op, accuracy], feed_dict = { X : _x, Y : _y, keep_prob : 1.0 })\n",
    "            loss = sum(loss)\n",
    "            cost_hist.append(loss)\n",
    "            acc_hist.append(acc)\n",
    "            print('Epoch ' + str(epoch) + ', Cost: ' + str(loss) + ', Accuracy: ' + str(acc * 100) + ' %')\n",
    "    print('-' * 50)\n",
    "    print('\\nOptimization Finished\\n')\n",
    "    print('Accuracy on Training Data: ' + str(sess.run(accuracy,\n",
    "                                                       feed_dict = {\n",
    "                                                           X : X_train,\n",
    "                                                           Y : y_train,\n",
    "                                                           keep_prob : 1.0\n",
    "                                                       }) * 100) + ' %')\n",
    "    print('Accuracy on Test Data: ' + str(sess.run(accuracy,\n",
    "                                                   feed_dict = {\n",
    "                                                       X : X_test,\n",
    "                                                       Y : y_test,\n",
    "                                                       keep_prob : 1.0\n",
    "                                                   }) * 100) + ' %')"
   ]
  },
  {
   "cell_type": "code",
   "execution_count": null,
   "metadata": {
    "_uuid": "84ab1b7d2165e10015c8d2ee01d0004af18270b8"
   },
   "outputs": [],
   "source": [
    "plt.plot(list(range(len(cost_hist))), cost_hist)\n",
    "plt.title(\"Change in cost\")\n",
    "plt.show()"
   ]
  },
  {
   "cell_type": "code",
   "execution_count": 73,
   "metadata": {
    "_uuid": "188376334c30fe5508070fa70da3f0ea3e6e66c8"
   },
   "outputs": [
    {
     "data": {
      "image/png": "[encoded data removed]",
      "text/plain": [
       "<Figure size 432x288 with 1 Axes>"
      ]
     },
     "metadata": {
      "needs_background": "light"
     },
     "output_type": "display_data"
    }
   ],
   "source": [
    "plt.plot(list(range(len(acc_hist))), acc_hist)\n",
    "plt.title(\"Change in accuracy\")\n",
    "plt.show()"
   ]
  },
  {
   "cell_type": "markdown",
   "metadata": {
    "_uuid": "c16418a2f266b3aa1ad7840f59ca0ba807e46954"
   },
   "source": [
    "## Training the Neural Network on the whole dataset to get the Optimized Weights and Biases"
   ]
  },
  {
   "cell_type": "code",
   "execution_count": 74,
   "metadata": {
    "_uuid": "5be1bee55f7094dd81e93a0851e0f950f9f5df0f"
   },
   "outputs": [
    {
     "name": "stdout",
     "output_type": "stream",
     "text": [
      "Training on the whole dataset....\n",
      "\n",
      "Epoch 100, Cost: 215223022.625, Accuracy: 32.8125 %\n",
      "Epoch 200, Cost: 57870045.375, Accuracy: 60.9375 %\n",
      "Epoch 300, Cost: 19817892.125, Accuracy: 78.90625 %\n",
      "Epoch 400, Cost: 7344756.1875, Accuracy: 84.375 %\n",
      "Epoch 500, Cost: 6152375.6875, Accuracy: 87.5 %\n",
      "Epoch 600, Cost: 2724744.5625, Accuracy: 89.84375 %\n",
      "Epoch 700, Cost: 1001411.59375, Accuracy: 95.3125 %\n",
      "Epoch 800, Cost: 281428.375, Accuracy: 96.09375 %\n",
      "Epoch 900, Cost: 951034.9375, Accuracy: 96.09375 %\n",
      "Epoch 1000, Cost: 321651.15625, Accuracy: 95.3125 %\n",
      "Epoch 1100, Cost: 65324.9375, Accuracy: 99.21875 %\n",
      "Epoch 1200, Cost: 238800.0, Accuracy: 97.65625 %\n",
      "Epoch 1300, Cost: 26537.5625, Accuracy: 98.4375 %\n",
      "Epoch 1400, Cost: 144332.0, Accuracy: 98.4375 %\n",
      "Epoch 1500, Cost: 0.0, Accuracy: 100.0 %\n",
      "Epoch 1600, Cost: 0.0, Accuracy: 100.0 %\n",
      "Epoch 1700, Cost: 63809.0625, Accuracy: 99.21875 %\n",
      "Epoch 1800, Cost: 55013.6875, Accuracy: 99.21875 %\n",
      "Epoch 1900, Cost: 0.0, Accuracy: 100.0 %\n",
      "Epoch 2000, Cost: 0.0, Accuracy: 100.0 %\n",
      "--------------------------------------------------\n",
      "\n",
      "Optimization Finished\n",
      "\n",
      "Accuracy after training on whole dataset Data: 99.6430516242981 %\n"
     ]
    }
   ],
   "source": [
    "print('Training on the whole dataset....\\n')\n",
    "with tf.Session() as sess:\n",
    "    sess.run(init) # Running Initializer\n",
    "    cost_hist, acc_hist = [], []\n",
    "    for epoch in range(1, epochs + 1):\n",
    "        _x, _y = next_batch(batch_size, x, y_encoded)\n",
    "        # Running Optimizer\n",
    "        sess.run(train_op,\n",
    "                 feed_dict = {\n",
    "                     X : _x,\n",
    "                     Y : _y,\n",
    "                     keep_prob : dropout\n",
    "                 })\n",
    "        if epoch % display_step == 0:\n",
    "            # Calculating Loss and Accuracy on the current Epoch\n",
    "            loss, acc = sess.run([loss_op, accuracy],\n",
    "                                 feed_dict = {\n",
    "                                     X : _x,\n",
    "                                     Y : _y,\n",
    "                                     keep_prob : 1.0\n",
    "                                 })\n",
    "            loss = sum(loss)\n",
    "            cost_hist.append(loss)\n",
    "            acc_hist.append(acc)\n",
    "            print('Epoch ' + str(epoch) + ', Cost: ' + str(loss) + ', Accuracy: ' + str(acc * 100) + ' %')\n",
    "    print('-' * 50)\n",
    "    print('\\nOptimization Finished\\n')\n",
    "    print('Accuracy after training on whole dataset Data: ' + str(sess.run(accuracy,\n",
    "                                                       feed_dict = {\n",
    "                                                           X : x,\n",
    "                                                           Y : y_encoded,\n",
    "                                                           keep_prob : 1.0\n",
    "                                                       }) * 100) + ' %')\n",
    "    W = sess.run(weights)\n",
    "    B = sess.run(biases)"
   ]
  },
  {
   "cell_type": "code",
   "execution_count": 75,
   "metadata": {
    "_uuid": "d69fa56da57f53e541a1f9b06556d497bc05d92c"
   },
   "outputs": [
    {
     "data": {
      "image/png": "[encoded data removed]",
      "text/plain": [
       "<Figure size 432x288 with 1 Axes>"
      ]
     },
     "metadata": {
      "needs_background": "light"
     },
     "output_type": "display_data"
    }
   ],
   "source": [
    "plt.plot(list(range(len(cost_hist))), cost_hist)\n",
    "plt.title(\"Change in cost\")\n",
    "plt.show()"
   ]
  },
  {
   "cell_type": "code",
   "execution_count": 76,
   "metadata": {
    "_uuid": "bc9b7c099d7b7e4dbeb47aaf44265d6d4e0d885d"
   },
   "outputs": [
    {
     "data": {
      "image/png": "[encoded data removed]",
      "text/plain": [
       "<Figure size 432x288 with 1 Axes>"
      ]
     },
     "metadata": {
      "needs_background": "light"
     },
     "output_type": "display_data"
    }
   ],
   "source": [
    "plt.plot(list(range(len(acc_hist))), acc_hist)\n",
    "plt.title(\"Change in accuracy\")\n",
    "plt.show()"
   ]
  },
  {
   "cell_type": "code",
   "execution_count": null,
   "metadata": {
    "_uuid": "a0b382a07f0f55fe6667ce8fe7b4bd1580513e33"
   },
   "outputs": [],
   "source": []
  }
 ],
 "metadata": {
  "kernelspec": {
   "display_name": "Python 3 (ipykernel)",
   "language": "python",
   "name": "python3"
  },
  "language_info": {
   "codemirror_mode": {
    "name": "ipython",
    "version": 3
   },
   "file_extension": ".py",
   "mimetype": "text/x-python",
   "name": "python",
   "nbconvert_exporter": "python",
   "pygments_lexer": "ipython3",
   "version": "3.9.13"
  }
 },
 "nbformat": 4,
 "nbformat_minor": 4
}
